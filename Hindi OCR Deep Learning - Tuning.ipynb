{
 "cells": [
  {
   "cell_type": "markdown",
   "metadata": {},
   "source": [
    "# Performing OCR for Hindi Letters"
   ]
  },
  {
   "cell_type": "markdown",
   "metadata": {},
   "source": [
    "## Importing all the required files"
   ]
  },
  {
   "cell_type": "code",
   "execution_count": 1,
   "metadata": {},
   "outputs": [],
   "source": [
    "# Normal ML data analysis\n",
    "import numpy as np\n",
    "\n",
    "# File manipulation\n",
    "import os\n",
    "\n",
    "# Image manipulation\n",
    "from skimage.io import imread\n",
    "\n",
    "# DL Training and evaluation\n",
    "import tensorflow as tf"
   ]
  },
  {
   "cell_type": "markdown",
   "metadata": {},
   "source": [
    "## Preprocessing by loading the data"
   ]
  },
  {
   "cell_type": "code",
   "execution_count": 2,
   "metadata": {},
   "outputs": [],
   "source": [
    "def getChars(PATH):\n",
    "    chars = os.listdir(PATH)\n",
    "    new_chars = []\n",
    "    for char in chars:\n",
    "        new_chars.append(char)\n",
    "    return new_chars\n",
    "\n",
    "def getImages(PATH, categories):\n",
    "    X = []\n",
    "    y = []\n",
    "    \n",
    "    for i in categories:\n",
    "        path = os.path.join(PATH,i) # Copying path of a specific image\n",
    "        for img in os.listdir(path):\n",
    "            img_array = imread(os.path.join(path,img))/255 # Taking input of image as an array\n",
    "            X.append(img_array) # Storing image in the form of array\n",
    "            y.append(categories[i]) # Storing its corresponding category\n",
    "    \n",
    "    # Converting to numpy array form    \n",
    "    X = np.array(X)\n",
    "    y = np.array(y)\n",
    "    \n",
    "    # Reshape X to pass into CNN without issues\n",
    "    X = np.reshape(X, (X.shape[0], X.shape[1], X.shape[2], 1))\n",
    "    return X, y"
   ]
  },
  {
   "cell_type": "code",
   "execution_count": 3,
   "metadata": {},
   "outputs": [],
   "source": [
    "traindir = '../data/DevanagariHandwrittenCharacterDataset/Train'\n",
    "testdir = '../data/DevanagariHandwrittenCharacterDataset/Test'"
   ]
  },
  {
   "cell_type": "code",
   "execution_count": 4,
   "metadata": {},
   "outputs": [
    {
     "data": {
      "text/plain": [
       "{'character_10_yna': 0,\n",
       " 'character_11_taamatar': 1,\n",
       " 'character_12_thaa': 2,\n",
       " 'character_13_daa': 3,\n",
       " 'character_14_dhaa': 4,\n",
       " 'character_15_adna': 5,\n",
       " 'character_16_tabala': 6,\n",
       " 'character_17_tha': 7,\n",
       " 'character_18_da': 8,\n",
       " 'character_19_dha': 9,\n",
       " 'character_1_ka': 10,\n",
       " 'character_20_na': 11,\n",
       " 'character_21_pa': 12,\n",
       " 'character_22_pha': 13,\n",
       " 'character_23_ba': 14,\n",
       " 'character_24_bha': 15,\n",
       " 'character_25_ma': 16,\n",
       " 'character_26_yaw': 17,\n",
       " 'character_27_ra': 18,\n",
       " 'character_28_la': 19,\n",
       " 'character_29_waw': 20,\n",
       " 'character_2_kha': 21,\n",
       " 'character_30_motosaw': 22,\n",
       " 'character_31_petchiryakha': 23,\n",
       " 'character_32_patalosaw': 24,\n",
       " 'character_33_ha': 25,\n",
       " 'character_34_chhya': 26,\n",
       " 'character_35_tra': 27,\n",
       " 'character_36_gya': 28,\n",
       " 'character_3_ga': 29,\n",
       " 'character_4_gha': 30,\n",
       " 'character_5_kna': 31,\n",
       " 'character_6_cha': 32,\n",
       " 'character_7_chha': 33,\n",
       " 'character_8_ja': 34,\n",
       " 'character_9_jha': 35,\n",
       " 'digit_0': 36,\n",
       " 'digit_1': 37,\n",
       " 'digit_2': 38,\n",
       " 'digit_3': 39,\n",
       " 'digit_4': 40,\n",
       " 'digit_5': 41,\n",
       " 'digit_6': 42,\n",
       " 'digit_7': 43,\n",
       " 'digit_8': 44,\n",
       " 'digit_9': 45}"
      ]
     },
     "execution_count": 4,
     "metadata": {},
     "output_type": "execute_result"
    }
   ],
   "source": [
    "characters = getChars(traindir)\n",
    "categories = {k: v for v, k in enumerate(characters)}\n",
    "categories"
   ]
  },
  {
   "cell_type": "markdown",
   "metadata": {},
   "source": [
    "### Training Data"
   ]
  },
  {
   "cell_type": "code",
   "execution_count": 5,
   "metadata": {},
   "outputs": [],
   "source": [
    "X, y = getImages(traindir, categories)"
   ]
  },
  {
   "cell_type": "code",
   "execution_count": 6,
   "metadata": {},
   "outputs": [
    {
     "data": {
      "text/plain": [
       "(78200, 32, 32, 1)"
      ]
     },
     "execution_count": 6,
     "metadata": {},
     "output_type": "execute_result"
    }
   ],
   "source": [
    "X.shape"
   ]
  },
  {
   "cell_type": "code",
   "execution_count": 7,
   "metadata": {},
   "outputs": [
    {
     "data": {
      "text/plain": [
       "(78200,)"
      ]
     },
     "execution_count": 7,
     "metadata": {},
     "output_type": "execute_result"
    }
   ],
   "source": [
    "y.shape"
   ]
  },
  {
   "cell_type": "markdown",
   "metadata": {},
   "source": [
    "### Testing Data"
   ]
  },
  {
   "cell_type": "code",
   "execution_count": 8,
   "metadata": {},
   "outputs": [],
   "source": [
    "X_test, y_test = getImages(testdir, categories)"
   ]
  },
  {
   "cell_type": "code",
   "execution_count": 9,
   "metadata": {},
   "outputs": [
    {
     "data": {
      "text/plain": [
       "(13800, 32, 32, 1)"
      ]
     },
     "execution_count": 9,
     "metadata": {},
     "output_type": "execute_result"
    }
   ],
   "source": [
    "X_test.shape"
   ]
  },
  {
   "cell_type": "code",
   "execution_count": 10,
   "metadata": {},
   "outputs": [
    {
     "data": {
      "text/plain": [
       "array([ 0,  0,  0, ..., 45, 45, 45])"
      ]
     },
     "execution_count": 10,
     "metadata": {},
     "output_type": "execute_result"
    }
   ],
   "source": [
    "y_test"
   ]
  },
  {
   "cell_type": "markdown",
   "metadata": {},
   "source": [
    "## Model Building and Evaluation"
   ]
  },
  {
   "cell_type": "code",
   "execution_count": 11,
   "metadata": {},
   "outputs": [],
   "source": [
    "model = tf.keras.models.Sequential()\n",
    "model.add(tf.keras.layers.Conv2D(64, (3, 3), activation='relu', input_shape=(32, 32, 1)))\n",
    "model.add(tf.keras.layers.MaxPooling2D((2,2)))\n",
    "model.add(tf.keras.layers.BatchNormalization())\n",
    "model.add(tf.keras.layers.Conv2D(64, (3, 3), activation='relu'))\n",
    "model.add(tf.keras.layers.BatchNormalization())\n",
    "model.add(tf.keras.layers.Conv2D(64, (3, 3), activation='relu'))\n",
    "model.add(tf.keras.layers.BatchNormalization())\n",
    "model.add(tf.keras.layers.Conv2D(32, (3, 3), activation='relu'))\n",
    "model.add(tf.keras.layers.MaxPooling2D((2,2)))\n",
    "model.add(tf.keras.layers.BatchNormalization())\n",
    "model.add(tf.keras.layers.Flatten())\n",
    "model.add(tf.keras.layers.Dense(64))\n",
    "model.add(tf.keras.layers.Dropout(0.4))\n",
    "model.add(tf.keras.layers.Dense(len(characters)))\n",
    "\n",
    "\n",
    "loss_fn = tf.keras.losses.SparseCategoricalCrossentropy(from_logits=True)\n",
    "optimizer_fn = tf.keras.optimizers.Adam(learning_rate=0.001)\n",
    "\n",
    "model.compile(optimizer=optimizer_fn,\n",
    "              loss=loss_fn,\n",
    "              metrics=['accuracy'])"
   ]
  },
  {
   "cell_type": "code",
   "execution_count": 12,
   "metadata": {},
   "outputs": [
    {
     "name": "stdout",
     "output_type": "stream",
     "text": [
      "Epoch 1/100\n",
      "2444/2444 [==============================] - 18s 5ms/step - loss: 0.6391 - accuracy: 0.8185\n",
      "Epoch 2/100\n",
      "2444/2444 [==============================] - 12s 5ms/step - loss: 0.2025 - accuracy: 0.9382\n",
      "Epoch 3/100\n",
      "2444/2444 [==============================] - 12s 5ms/step - loss: 0.1468 - accuracy: 0.9543\n",
      "Epoch 4/100\n",
      "2444/2444 [==============================] - 11s 5ms/step - loss: 0.1165 - accuracy: 0.9643\n",
      "Epoch 5/100\n",
      "2444/2444 [==============================] - 12s 5ms/step - loss: 0.1030 - accuracy: 0.9677\n",
      "Epoch 6/100\n",
      "2444/2444 [==============================] - 12s 5ms/step - loss: 0.0850 - accuracy: 0.9732\n",
      "Epoch 7/100\n",
      "2444/2444 [==============================] - 12s 5ms/step - loss: 0.0773 - accuracy: 0.9763\n",
      "Epoch 8/100\n",
      "2444/2444 [==============================] - 12s 5ms/step - loss: 0.0688 - accuracy: 0.9783\n",
      "Epoch 9/100\n",
      "2444/2444 [==============================] - 12s 5ms/step - loss: 0.0621 - accuracy: 0.9811\n",
      "Epoch 10/100\n",
      "2444/2444 [==============================] - 15s 6ms/step - loss: 0.0587 - accuracy: 0.9815\n",
      "Epoch 11/100\n",
      "2444/2444 [==============================] - 14s 6ms/step - loss: 0.0484 - accuracy: 0.9842\n",
      "Epoch 12/100\n",
      "2444/2444 [==============================] - 13s 5ms/step - loss: 0.0488 - accuracy: 0.9850\n",
      "Epoch 13/100\n",
      "2444/2444 [==============================] - 14s 6ms/step - loss: 0.0451 - accuracy: 0.9855\n",
      "Epoch 14/100\n",
      "2444/2444 [==============================] - 13s 5ms/step - loss: 0.0422 - accuracy: 0.9868\n",
      "Epoch 15/100\n",
      "2444/2444 [==============================] - 12s 5ms/step - loss: 0.0398 - accuracy: 0.9875\n",
      "Epoch 16/100\n",
      "2444/2444 [==============================] - 13s 5ms/step - loss: 0.0365 - accuracy: 0.9880\n",
      "Epoch 17/100\n",
      "2444/2444 [==============================] - 17s 7ms/step - loss: 0.0345 - accuracy: 0.9887\n",
      "Epoch 18/100\n",
      "2444/2444 [==============================] - 13s 5ms/step - loss: 0.0337 - accuracy: 0.9891\n",
      "Epoch 19/100\n",
      "2444/2444 [==============================] - 14s 6ms/step - loss: 0.0328 - accuracy: 0.9897\n",
      "Epoch 20/100\n",
      "2444/2444 [==============================] - 15s 6ms/step - loss: 0.0313 - accuracy: 0.9898\n",
      "Epoch 21/100\n",
      "2444/2444 [==============================] - 17s 7ms/step - loss: 0.0292 - accuracy: 0.9904\n",
      "Epoch 22/100\n",
      "2444/2444 [==============================] - 13s 5ms/step - loss: 0.0267 - accuracy: 0.9911\n",
      "Epoch 23/100\n",
      "2444/2444 [==============================] - 13s 5ms/step - loss: 0.0266 - accuracy: 0.9913\n",
      "Epoch 24/100\n",
      "2444/2444 [==============================] - 13s 5ms/step - loss: 0.0263 - accuracy: 0.9912\n",
      "Epoch 25/100\n",
      "2444/2444 [==============================] - 13s 5ms/step - loss: 0.0235 - accuracy: 0.9922\n",
      "Epoch 26/100\n",
      "2444/2444 [==============================] - 15s 6ms/step - loss: 0.0240 - accuracy: 0.9921\n",
      "Epoch 27/100\n",
      "2444/2444 [==============================] - 13s 5ms/step - loss: 0.0223 - accuracy: 0.9926\n",
      "Epoch 28/100\n",
      "2444/2444 [==============================] - 13s 5ms/step - loss: 0.0232 - accuracy: 0.9923\n",
      "Epoch 29/100\n",
      "2444/2444 [==============================] - 14s 6ms/step - loss: 0.0223 - accuracy: 0.9928\n",
      "Epoch 30/100\n",
      "2444/2444 [==============================] - 11s 5ms/step - loss: 0.0210 - accuracy: 0.9933\n",
      "Epoch 31/100\n",
      "2444/2444 [==============================] - 13s 5ms/step - loss: 0.0208 - accuracy: 0.9930\n",
      "Epoch 32/100\n",
      "2444/2444 [==============================] - 15s 6ms/step - loss: 0.0202 - accuracy: 0.9933\n",
      "Epoch 33/100\n",
      "2444/2444 [==============================] - 15s 6ms/step - loss: 0.0187 - accuracy: 0.9937\n",
      "Epoch 34/100\n",
      "2444/2444 [==============================] - 16s 6ms/step - loss: 0.0182 - accuracy: 0.9942\n",
      "Epoch 35/100\n",
      "2444/2444 [==============================] - 13s 5ms/step - loss: 0.0180 - accuracy: 0.9942\n",
      "Epoch 36/100\n",
      "2444/2444 [==============================] - 13s 5ms/step - loss: 0.0184 - accuracy: 0.9939\n",
      "Epoch 37/100\n",
      "2444/2444 [==============================] - 13s 5ms/step - loss: 0.0192 - accuracy: 0.9939\n",
      "Epoch 38/100\n",
      "2444/2444 [==============================] - 13s 5ms/step - loss: 0.0179 - accuracy: 0.9941\n",
      "Epoch 39/100\n",
      "2444/2444 [==============================] - 13s 5ms/step - loss: 0.0167 - accuracy: 0.9943\n",
      "Epoch 40/100\n",
      "2444/2444 [==============================] - 13s 5ms/step - loss: 0.0160 - accuracy: 0.9950\n",
      "Epoch 41/100\n",
      "2444/2444 [==============================] - 14s 6ms/step - loss: 0.0166 - accuracy: 0.9945\n",
      "Epoch 42/100\n",
      "2444/2444 [==============================] - 16s 6ms/step - loss: 0.0152 - accuracy: 0.9950\n",
      "Epoch 43/100\n",
      "2444/2444 [==============================] - 14s 6ms/step - loss: 0.0153 - accuracy: 0.9948\n",
      "Epoch 44/100\n",
      "2444/2444 [==============================] - 15s 6ms/step - loss: 0.0163 - accuracy: 0.9952\n",
      "Epoch 45/100\n",
      "2444/2444 [==============================] - 16s 6ms/step - loss: 0.0152 - accuracy: 0.9948\n",
      "Epoch 46/100\n",
      "2444/2444 [==============================] - 13s 5ms/step - loss: 0.0134 - accuracy: 0.9957\n",
      "Epoch 47/100\n",
      "2444/2444 [==============================] - 17s 7ms/step - loss: 0.0143 - accuracy: 0.9953\n",
      "Epoch 48/100\n",
      "2444/2444 [==============================] - 13s 5ms/step - loss: 0.0133 - accuracy: 0.9955\n",
      "Epoch 49/100\n",
      "2444/2444 [==============================] - 13s 5ms/step - loss: 0.0167 - accuracy: 0.9949\n",
      "Epoch 50/100\n",
      "2444/2444 [==============================] - 13s 5ms/step - loss: 0.0138 - accuracy: 0.9958\n",
      "Epoch 51/100\n",
      "2444/2444 [==============================] - 14s 6ms/step - loss: 0.0143 - accuracy: 0.9957\n",
      "Epoch 52/100\n",
      "2444/2444 [==============================] - 13s 5ms/step - loss: 0.0132 - accuracy: 0.9957\n",
      "Epoch 53/100\n",
      "2444/2444 [==============================] - 13s 5ms/step - loss: 0.0134 - accuracy: 0.9957\n",
      "Epoch 54/100\n",
      "2444/2444 [==============================] - 13s 5ms/step - loss: 0.0129 - accuracy: 0.9958\n",
      "Epoch 55/100\n",
      "2444/2444 [==============================] - 14s 6ms/step - loss: 0.0137 - accuracy: 0.9956\n",
      "Epoch 56/100\n",
      "2444/2444 [==============================] - 13s 5ms/step - loss: 0.0125 - accuracy: 0.9960\n",
      "Epoch 57/100\n",
      "2444/2444 [==============================] - 17s 7ms/step - loss: 0.0121 - accuracy: 0.9960\n",
      "Epoch 58/100\n",
      "2444/2444 [==============================] - 13s 5ms/step - loss: 0.0147 - accuracy: 0.9954\n",
      "Epoch 59/100\n",
      "2444/2444 [==============================] - 17s 7ms/step - loss: 0.0112 - accuracy: 0.9965\n",
      "Epoch 60/100\n",
      "2444/2444 [==============================] - 13s 5ms/step - loss: 0.0124 - accuracy: 0.9963\n",
      "Epoch 61/100\n",
      "2444/2444 [==============================] - 14s 6ms/step - loss: 0.0131 - accuracy: 0.9957\n",
      "Epoch 62/100\n",
      "2444/2444 [==============================] - 13s 6ms/step - loss: 0.0115 - accuracy: 0.9966\n",
      "Epoch 63/100\n",
      "2444/2444 [==============================] - 14s 6ms/step - loss: 0.0116 - accuracy: 0.9961\n",
      "Epoch 64/100\n",
      "2444/2444 [==============================] - 13s 6ms/step - loss: 0.0118 - accuracy: 0.9961\n",
      "Epoch 65/100\n",
      "2444/2444 [==============================] - 13s 5ms/step - loss: 0.0120 - accuracy: 0.9959\n",
      "Epoch 66/100\n",
      "2444/2444 [==============================] - 16s 7ms/step - loss: 0.0119 - accuracy: 0.9963\n",
      "Epoch 67/100\n",
      "2444/2444 [==============================] - 13s 5ms/step - loss: 0.0111 - accuracy: 0.9962\n",
      "Epoch 68/100\n",
      "2444/2444 [==============================] - 14s 6ms/step - loss: 0.0117 - accuracy: 0.9965\n",
      "Epoch 69/100\n",
      "2444/2444 [==============================] - 15s 6ms/step - loss: 0.0099 - accuracy: 0.9969\n",
      "Epoch 70/100\n",
      "2444/2444 [==============================] - 13s 5ms/step - loss: 0.0124 - accuracy: 0.9959\n",
      "Epoch 71/100\n",
      "2444/2444 [==============================] - 13s 5ms/step - loss: 0.0101 - accuracy: 0.9966\n",
      "Epoch 72/100\n",
      "2444/2444 [==============================] - 13s 5ms/step - loss: 0.0116 - accuracy: 0.9961\n",
      "Epoch 73/100\n",
      "2444/2444 [==============================] - 14s 6ms/step - loss: 0.0102 - accuracy: 0.9967\n",
      "Epoch 74/100\n",
      "2444/2444 [==============================] - 14s 6ms/step - loss: 0.0098 - accuracy: 0.9968\n",
      "Epoch 75/100\n",
      "2444/2444 [==============================] - 14s 6ms/step - loss: 0.0102 - accuracy: 0.9966\n",
      "Epoch 76/100\n",
      "2444/2444 [==============================] - 15s 6ms/step - loss: 0.0113 - accuracy: 0.9962\n",
      "Epoch 77/100\n",
      "2444/2444 [==============================] - 15s 6ms/step - loss: 0.0107 - accuracy: 0.9968\n",
      "Epoch 78/100\n",
      "2444/2444 [==============================] - 13s 5ms/step - loss: 0.0109 - accuracy: 0.9964\n",
      "Epoch 79/100\n",
      "2444/2444 [==============================] - 16s 7ms/step - loss: 0.0099 - accuracy: 0.9967\n",
      "Epoch 80/100\n",
      "2444/2444 [==============================] - 12s 5ms/step - loss: 0.0101 - accuracy: 0.9967\n",
      "Epoch 81/100\n",
      "2444/2444 [==============================] - 13s 5ms/step - loss: 0.0110 - accuracy: 0.9966\n",
      "Epoch 82/100\n",
      "2444/2444 [==============================] - 12s 5ms/step - loss: 0.0083 - accuracy: 0.9973\n",
      "Epoch 83/100\n",
      "2444/2444 [==============================] - 14s 6ms/step - loss: 0.0107 - accuracy: 0.9967\n",
      "Epoch 84/100\n",
      "2444/2444 [==============================] - 13s 5ms/step - loss: 0.0105 - accuracy: 0.9967\n",
      "Epoch 85/100\n",
      "2444/2444 [==============================] - 12s 5ms/step - loss: 0.0099 - accuracy: 0.9968\n",
      "Epoch 86/100\n",
      "2444/2444 [==============================] - 14s 6ms/step - loss: 0.0095 - accuracy: 0.9969\n",
      "Epoch 87/100\n",
      "2444/2444 [==============================] - 15s 6ms/step - loss: 0.0113 - accuracy: 0.9965\n",
      "Epoch 88/100\n",
      "2444/2444 [==============================] - 14s 6ms/step - loss: 0.0093 - accuracy: 0.9972\n",
      "Epoch 89/100\n",
      "2444/2444 [==============================] - 13s 5ms/step - loss: 0.0100 - accuracy: 0.9971\n",
      "Epoch 90/100\n",
      "2444/2444 [==============================] - 14s 6ms/step - loss: 0.0091 - accuracy: 0.9970\n",
      "Epoch 91/100\n",
      "2444/2444 [==============================] - 13s 5ms/step - loss: 0.0095 - accuracy: 0.9971\n",
      "Epoch 92/100\n",
      "2444/2444 [==============================] - 12s 5ms/step - loss: 0.0090 - accuracy: 0.9973\n",
      "Epoch 93/100\n",
      "2444/2444 [==============================] - 12s 5ms/step - loss: 0.0091 - accuracy: 0.9973\n",
      "Epoch 94/100\n",
      "2444/2444 [==============================] - 12s 5ms/step - loss: 0.0099 - accuracy: 0.9968\n",
      "Epoch 95/100\n",
      "2444/2444 [==============================] - 12s 5ms/step - loss: 0.0089 - accuracy: 0.9971\n",
      "Epoch 96/100\n",
      "2444/2444 [==============================] - 12s 5ms/step - loss: 0.0095 - accuracy: 0.9972\n",
      "Epoch 97/100\n",
      "2444/2444 [==============================] - 13s 5ms/step - loss: 0.0083 - accuracy: 0.9974\n",
      "Epoch 98/100\n",
      "2444/2444 [==============================] - 13s 5ms/step - loss: 0.0087 - accuracy: 0.9972\n",
      "Epoch 99/100\n",
      "2444/2444 [==============================] - 13s 5ms/step - loss: 0.0082 - accuracy: 0.9976\n",
      "Epoch 100/100\n",
      "2444/2444 [==============================] - 12s 5ms/step - loss: 0.0091 - accuracy: 0.9971\n"
     ]
    },
    {
     "data": {
      "text/plain": [
       "<keras.callbacks.History at 0x2a657dd7040>"
      ]
     },
     "execution_count": 12,
     "metadata": {},
     "output_type": "execute_result"
    }
   ],
   "source": [
    "model.fit(X, y, batch_size=32, epochs=100, use_multiprocessing=True)"
   ]
  },
  {
   "cell_type": "code",
   "execution_count": 13,
   "metadata": {
    "scrolled": true
   },
   "outputs": [
    {
     "name": "stdout",
     "output_type": "stream",
     "text": [
      "432/432 [==============================] - 1s 3ms/step - loss: 0.0876 - accuracy: 0.9878\n"
     ]
    },
    {
     "data": {
      "text/plain": [
       "[0.0876215249300003, 0.9877536296844482]"
      ]
     },
     "execution_count": 13,
     "metadata": {},
     "output_type": "execute_result"
    }
   ],
   "source": [
    "model.evaluate(X_test, y_test)"
   ]
  },
  {
   "cell_type": "markdown",
   "metadata": {},
   "source": [
    "We have a 40+ class classification and our model is more than 95% accurate. This shows the effectivensess of CNNs in general and in this case, its effectiveness in learning character objects."
   ]
  },
  {
   "cell_type": "markdown",
   "metadata": {},
   "source": [
    "### Save the CNN model (H5) to disk"
   ]
  },
  {
   "cell_type": "code",
   "execution_count": 14,
   "metadata": {},
   "outputs": [],
   "source": [
    "filename = '../models/NN_model.h5'\n",
    "model.save(filename)"
   ]
  },
  {
   "cell_type": "code",
   "execution_count": null,
   "metadata": {},
   "outputs": [],
   "source": []
  }
 ],
 "metadata": {
  "kernelspec": {
   "display_name": "Python 3",
   "language": "python",
   "name": "python3"
  },
  "language_info": {
   "codemirror_mode": {
    "name": "ipython",
    "version": 3
   },
   "file_extension": ".py",
   "mimetype": "text/x-python",
   "name": "python",
   "nbconvert_exporter": "python",
   "pygments_lexer": "ipython3",
   "version": "3.9.7"
  }
 },
 "nbformat": 4,
 "nbformat_minor": 4
}
